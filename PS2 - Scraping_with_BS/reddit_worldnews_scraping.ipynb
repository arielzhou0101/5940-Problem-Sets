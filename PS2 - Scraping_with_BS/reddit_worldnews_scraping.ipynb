{
 "cells": [
  {
   "cell_type": "code",
   "execution_count": 1,
   "metadata": {},
   "outputs": [],
   "source": [
    "import requests\n",
    "import csv\n",
    "from bs4 import BeautifulSoup\n",
    "\n",
    "quote_page = requests.get('https://old.reddit.com/r/worldnews/') \n",
    "soup = BeautifulSoup(quote_page.content,'html.parser')\n",
    "data = []\n",
    "\n",
    "for article in soup.find_all('p',class_='title'): \n",
    "    title = article.a.text\n",
    "    outbound_url = article.a.get('href')    \n",
    "    data.append((title, outbound_url))\n",
    "\n",
    "with open('reddit_worldnews_scraping.csv', 'w') as csv_file:\n",
    "     writer = csv.writer(csv_file)\n",
    "     header = ['title','outbound_url'] \n",
    "     writer.writerow(header)\n",
    "     for title, outbound_url in data: \n",
    "         writer.writerow([title, outbound_url])"
   ]
  }
 ],
 "metadata": {
  "kernelspec": {
   "display_name": "Python 3",
   "language": "python",
   "name": "python3"
  },
  "language_info": {
   "codemirror_mode": {
    "name": "ipython",
    "version": 3
   },
   "file_extension": ".py",
   "mimetype": "text/x-python",
   "name": "python",
   "nbconvert_exporter": "python",
   "pygments_lexer": "ipython3",
   "version": "3.7.1"
  }
 },
 "nbformat": 4,
 "nbformat_minor": 2
}
